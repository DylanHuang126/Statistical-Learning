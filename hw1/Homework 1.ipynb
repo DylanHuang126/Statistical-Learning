{
 "cells": [
  {
   "cell_type": "markdown",
   "metadata": {},
   "source": [
    "Q1.1 create myknn_regressor"
   ]
  },
  {
   "cell_type": "code",
   "execution_count": 115,
   "metadata": {},
   "outputs": [],
   "source": [
    "import pickle\n",
    "import numpy as np\n",
    "\n",
    "class myknn_regressor():\n",
    "    def __init__(self, k, meth):\n",
    "        self.k = k\n",
    "        if k >= 10 and meth == \"remove_outliers\":\n",
    "            self.method = \"remove_outliers\"\n",
    "        else:\n",
    "            self.method = \"equal_weight\"\n",
    "        \n",
    "    def fit(self, x_train, y_train):\n",
    "        self.x_train = x_train\n",
    "        self.y_train = y_train\n",
    "\n",
    "    def predict(self, x_test):\n",
    "        def disCal(x_test):\n",
    "            ED = np.sqrt(np.sum(np.square(x_test-self.x_train), axis = 1))\n",
    "            idx = np.argsort(ED)\n",
    "            y = np.array([y_train[i] for i in idx[:self.k]])\n",
    "\n",
    "            if self.method == \"equal_weight\":\n",
    "                return(np.mean(y))\n",
    "            else:\n",
    "                Q1 = np.percentile(y,25)\n",
    "                Q3 = np.percentile(y,75)\n",
    "                IQR = Q3 - Q1\n",
    "                ub = Q3 + 1.5 * IQR\n",
    "                lb = Q1 - 1.5 * IQR\n",
    "                \n",
    "                outlier = []\n",
    "                for i in range(len(y)):\n",
    "                    if y[i] > ub or y[i] < lb:\n",
    "                        outlier.append(i)\n",
    "                y = np.delete(y, outlier)\n",
    "                \n",
    "                return(np.mean(y))\n",
    "        \n",
    "        y_pred = np.apply_along_axis(disCal, 1, x_test)\n",
    "        \n",
    "        return(y_pred)"
   ]
  },
  {
   "cell_type": "markdown",
   "metadata": {},
   "source": [
    "先load pickle檔然後標準化資料"
   ]
  },
  {
   "cell_type": "code",
   "execution_count": 116,
   "metadata": {},
   "outputs": [],
   "source": [
    "file = open('msd_data1.pickle', 'rb')\n",
    "data = pickle.load(file)\n",
    "\n",
    "x_train = data['X_train']\n",
    "x_test = data['X_test']\n",
    "y_train = data['Y_train']\n",
    "y_test = data['Y_test']\n",
    "\n",
    "mean = np.mean(x_train, axis=0)\n",
    "std = np.std(x_train, axis=0)\n",
    "x_train = (x_train - mean) / std\n",
    "x_test = (x_test - mean) / std\n",
    "\n",
    "file.close()"
   ]
  },
  {
   "cell_type": "markdown",
   "metadata": {},
   "source": [
    "Q1.2"
   ]
  },
  {
   "cell_type": "code",
   "execution_count": 117,
   "metadata": {},
   "outputs": [
    {
     "name": "stdout",
     "output_type": "stream",
     "text": [
      "RMSE =  10.25126451549596\n",
      "the first 20 predictions :  [1993.35 1993.8  2000.65 1991.5  1992.8  1998.5  1988.1  1991.65 2002.25\n",
      " 2003.   2000.5  1998.65 1995.55 1997.2  1995.05 1997.4  1992.15 2000.45\n",
      " 2003.2  1995.75]\n"
     ]
    }
   ],
   "source": [
    "myknn = myknn_regressor(20, \"equal_weight\")\n",
    "myknn.fit(x_train, y_train)\n",
    "ypred = myknn.predict(x_test)\n",
    "\n",
    "rmse = np.sqrt((np.square(y_test - ypred)).mean(axis=0))\n",
    "print(\"RMSE = \", rmse)\n",
    "print(\"the first 20 predictions : \", ypred[:20])"
   ]
  },
  {
   "cell_type": "markdown",
   "metadata": {},
   "source": [
    "Q1.3"
   ]
  },
  {
   "cell_type": "code",
   "execution_count": 118,
   "metadata": {},
   "outputs": [
    {
     "name": "stdout",
     "output_type": "stream",
     "text": [
      "RMSE =  10.212572466080376\n",
      "the first 20 predictions :  [1993.35       1993.8        2000.65       1992.73684211 1992.8\n",
      " 2000.         1988.1        1991.65       2002.25       2003.94736842\n",
      " 2000.5        2000.94444444 1995.55       1997.2        1998.61111111\n",
      " 1997.4        1992.15       2003.83333333 2003.2        1995.75      ]\n"
     ]
    }
   ],
   "source": [
    "myknn = myknn_regressor(20, \"remove_outliers\")\n",
    "myknn.fit(x_train, y_train)\n",
    "ypred = myknn.predict(x_test)\n",
    "\n",
    "rmse = np.sqrt((np.square(y_test - ypred)).mean(axis=0))\n",
    "print(\"RMSE = \", rmse)\n",
    "print(\"the first 20 predictions : \", ypred[:20])"
   ]
  },
  {
   "cell_type": "markdown",
   "metadata": {},
   "source": [
    "Q2"
   ]
  },
  {
   "cell_type": "code",
   "execution_count": 119,
   "metadata": {},
   "outputs": [
    {
     "data": {
      "image/png": "[encoded data removed]",
      "text/plain": [
       "<Figure size 432x288 with 1 Axes>"
      ]
     },
     "metadata": {
      "needs_background": "light"
     },
     "output_type": "display_data"
    }
   ],
   "source": [
    "file = open('msd_data1.pickle', 'rb')\n",
    "data = pickle.load(file)\n",
    "\n",
    "x_train = data['X_train']\n",
    "x_test = data['X_test']\n",
    "y_train = data['Y_train']\n",
    "y_test = data['Y_test']\n",
    "\n",
    "mean = np.mean(x_train, axis=0)\n",
    "std = np.std(x_train, axis=0)\n",
    "x_train_s = (x_train - mean) / std\n",
    "x_test_s = (x_test - mean) / std\n",
    "\n",
    "file.close()\n",
    "\n",
    "\n",
    "from sklearn.neighbors import KNeighborsRegressor\n",
    "import matplotlib.pyplot as plt\n",
    "\n",
    "knn = [1,2,3,4,5,10,15,20,25,30,35,40,45,50,55,60,80,100,120,140,160,180,200]\n",
    "\n",
    "def rmseCal(k, xr, yr, xt, yt):\n",
    "    knn = KNeighborsRegressor(n_neighbors=k)\n",
    "    knn.fit(xr, yr)\n",
    "    ypred = knn.predict(xt)\n",
    "    rmse = np.sqrt((np.square(yt - ypred)).mean(axis=0))\n",
    "    return rmse\n",
    "\n",
    "def myRmseCal(k, xr, yr, xt, yt):\n",
    "    myknn = myknn_regressor(k, \"remove_outliers\")\n",
    "    myknn.fit(xr, yr)\n",
    "    ypred = myknn.predict(xt)\n",
    "    rmse = np.sqrt((np.square(yt - ypred)).mean(axis=0))\n",
    "    return rmse\n",
    "\n",
    "rmse_sk = [rmseCal(k, x_train, y_train, x_test, y_test) for k in knn]\n",
    "rmse_sk_s = [rmseCal(k, x_train_s, y_train, x_test_s, y_test) for k in knn]\n",
    "rmse_myknn = [myRmseCal(k, x_train_s, y_train, x_test_s, y_test) for k in knn]\n",
    "\n",
    "# case 1: using KNeighborsRegressor. All feature values are standardized.\n",
    "# case 2: using KNeighborsRegressor. No feature scaling.\n",
    "# case 3: using myknn_regressor. All feature values are standardized.\n",
    "\n",
    "plt.plot(knn, rmse_sk_s, label = \"case 1\")\n",
    "plt.plot(knn, rmse_sk, label = \"case 2\")\n",
    "plt.plot(knn, rmse_myknn, label = \"case 3\")\n",
    "plt.legend(loc='upper right')\n",
    "plt.xlabel(\"k\")\n",
    "plt.ylabel(\"rmse\")\n",
    "plt.show()"
   ]
  },
  {
   "cell_type": "markdown",
   "metadata": {},
   "source": [
    "observations:\n",
    "\n",
    "1. 三個case的線圖走勢相似，當k越大，rmse越小。\n",
    "2. 其中case 2（橘線）（using KNeighborsRegressor. No feature scaling.）誤差最大，因為資料沒有標準化，可見標準化後train有助於降低誤差。\n",
    "3. 同樣是有做資料標準化的case1, 3，因為case 3有去除outlier，所以誤差較小"
   ]
  }
 ],
 "metadata": {
  "kernelspec": {
   "display_name": "Python 3",
   "language": "python",
   "name": "python3"
  },
  "language_info": {
   "codemirror_mode": {
    "name": "ipython",
    "version": 3
   },
   "file_extension": ".py",
   "mimetype": "text/x-python",
   "name": "python",
   "nbconvert_exporter": "python",
   "pygments_lexer": "ipython3",
   "version": "3.7.0"
  }
 },
 "nbformat": 4,
 "nbformat_minor": 4
}
