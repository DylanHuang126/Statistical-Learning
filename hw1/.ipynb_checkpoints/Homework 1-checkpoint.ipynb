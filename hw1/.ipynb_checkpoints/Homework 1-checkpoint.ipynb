{
 "cells": [
  {
   "cell_type": "code",
   "execution_count": 22,
   "metadata": {},
   "outputs": [],
   "source": [
    "#Q1.1"
   ]
  },
  {
   "cell_type": "code",
   "execution_count": 72,
   "metadata": {},
   "outputs": [],
   "source": [
    "import pickle\n",
    "import numpy as np"
   ]
  },
  {
   "cell_type": "code",
   "execution_count": null,
   "metadata": {},
   "outputs": [],
   "source": [
    "# create myknn_regressor"
   ]
  },
  {
   "cell_type": "code",
   "execution_count": 96,
   "metadata": {},
   "outputs": [],
   "source": [
    "class myknn_regressor():\n",
    "    def __init__(self, k, meth):\n",
    "        self.k = k\n",
    "        if k >= 10 and meth == \"remove_outliers\":\n",
    "            self.method = \"remove_outliers\"\n",
    "        else:\n",
    "            self.method = \"equal_weight\"\n",
    "        \n",
    "    def fit(self, x_train, y_train):\n",
    "        self.x_train = x_train\n",
    "        self.y_train = y_train\n",
    "\n",
    "    def predict(self, x_test):\n",
    "        def disCal(x_test):\n",
    "            ED = np.sqrt(np.sum(np.square(x_test-self.x_train), axis = 1))\n",
    "            idx = np.argsort(ED)\n",
    "            y = np.array([y_train[i] for i in idx[:self.k]])\n",
    "\n",
    "            if self.method == \"equal_weight\":\n",
    "                return(np.mean(y))\n",
    "            else:\n",
    "                Q1 = np.percentile(y,25)\n",
    "                Q3 = np.percentile(y,75)\n",
    "                IQR = Q3 - Q1\n",
    "                ub = Q3 + 1.5 * IQR\n",
    "                lb = Q1 - 1.5 * IQR\n",
    "                \n",
    "                outlier = []\n",
    "                for i in range(len(y)):\n",
    "                    if y[i] > ub or y[i] < lb:\n",
    "                        outlier.append(i)\n",
    "                y = np.delete(y, outlier)\n",
    "                \n",
    "                return(np.mean(y))\n",
    "        \n",
    "        y_pred = np.apply_along_axis(disCal, 1, x_test)\n",
    "        \n",
    "        return(y_pred)"
   ]
  },
  {
   "cell_type": "code",
   "execution_count": null,
   "metadata": {},
   "outputs": [],
   "source": [
    "#先load pickle檔然後標準化資料\n",
    "\n",
    "file = open('msd_data1.pickle', 'rb')\n",
    "data = pickle.load(file)\n",
    "\n",
    "x_train = data['X_train']\n",
    "x_test = data['X_test']\n",
    "y_train = data['Y_train']\n",
    "y_test = data['Y_test']\n",
    "\n",
    "mean = np.mean(x_train, axis=0)\n",
    "std = np.std(x_train, axis=0)\n",
    "x_train = (x_train - mean) / std\n",
    "x_test = (x_test - mean) / std\n",
    "\n"
   ]
  },
  {
   "cell_type": "code",
   "execution_count": 97,
   "metadata": {},
   "outputs": [
    {
     "name": "stdout",
     "output_type": "stream",
     "text": [
      "RMSE =  10.25126451549596\n",
      "the first 20 predictions :  [1993.35 1993.8  2000.65 1991.5  1992.8  1998.5  1988.1  1991.65 2002.25\n",
      " 2003.   2000.5  1998.65 1995.55 1997.2  1995.05 1997.4  1992.15 2000.45\n",
      " 2003.2  1995.75]\n"
     ]
    }
   ],
   "source": [
    "#Q1.2\n",
    "\n",
    "myknn = myknn_regressor(20, \"equal_weight\")\n",
    "myknn.fit(x_train, y_train)\n",
    "ypred = myknn.predict(x_test)\n",
    "\n",
    "rmse = np.sqrt((np.square(y_test - ypred)).mean(axis=0))\n",
    "print(\"RMSE = \", rmse)\n",
    "print(\"the first 20 predictions : \", ypred[:20])"
   ]
  },
  {
   "cell_type": "code",
   "execution_count": 98,
   "metadata": {},
   "outputs": [
    {
     "name": "stdout",
     "output_type": "stream",
     "text": [
      "RMSE =  10.212572466080376\n",
      "the first 20 predictions :  [1993.35       1993.8        2000.65       1992.73684211 1992.8\n",
      " 2000.         1988.1        1991.65       2002.25       2003.94736842\n",
      " 2000.5        2000.94444444 1995.55       1997.2        1998.61111111\n",
      " 1997.4        1992.15       2003.83333333 2003.2        1995.75      ]\n"
     ]
    }
   ],
   "source": [
    "#Q1.3\n",
    "\n",
    "myknn = myknn_regressor(20, \"remove_outliers\")\n",
    "myknn.fit(x_train, y_train)\n",
    "ypred = myknn.predict(x_test)\n",
    "\n",
    "rmse = np.sqrt((np.square(y_test - ypred)).mean(axis=0))\n",
    "print(\"RMSE = \", rmse)\n",
    "print(\"the first 20 predictions : \", ypred[:20])"
   ]
  },
  {
   "cell_type": "code",
   "execution_count": null,
   "metadata": {},
   "outputs": [],
   "source": [
    "#Q2.1\n"
   ]
  }
 ],
 "metadata": {
  "kernelspec": {
   "display_name": "Python 3",
   "language": "python",
   "name": "python3"
  },
  "language_info": {
   "codemirror_mode": {
    "name": "ipython",
    "version": 3
   },
   "file_extension": ".py",
   "mimetype": "text/x-python",
   "name": "python",
   "nbconvert_exporter": "python",
   "pygments_lexer": "ipython3",
   "version": "3.7.0"
  }
 },
 "nbformat": 4,
 "nbformat_minor": 2
}
